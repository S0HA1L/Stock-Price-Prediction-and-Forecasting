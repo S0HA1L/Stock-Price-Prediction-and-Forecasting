{
 "cells": [
  {
   "cell_type": "markdown",
   "id": "ae2cfc42",
   "metadata": {},
   "source": [
    "### keras and Tensorflow > 2.0\n",
    "#### Steps \n",
    "<ol>\n",
    "    <li>we will collect the stock data</li>\n",
    "    <li>Preprocess the data - Train and Test</li>\n",
    "    <li>Create a stacked LSTM model</li>\n",
    "    <li>Predict the test data and plot the output</li>\n",
    "    <li>Predict the future 30 days and plot the output</li>\n",
    "</ol>"
   ]
  },
  {
   "cell_type": "code",
   "execution_count": 1,
   "id": "02999064",
   "metadata": {},
   "outputs": [],
   "source": [
    "## Data Collection\n",
    "import pandas_datareader as pdr"
   ]
  },
  {
   "cell_type": "code",
   "execution_count": 2,
   "id": "94746104",
   "metadata": {},
   "outputs": [],
   "source": [
    "df = pdr.get_data_tiingo('AAPL',api_key='da2dcaa137a9eb084b74c5c7f6a49661175df139')"
   ]
  },
  {
   "cell_type": "code",
   "execution_count": 3,
   "id": "8ff05bf4",
   "metadata": {},
   "outputs": [],
   "source": [
    "df.to_csv('AAPL.csv')"
   ]
  },
  {
   "cell_type": "code",
   "execution_count": 4,
   "id": "79f66e54",
   "metadata": {},
   "outputs": [],
   "source": [
    "import pandas as pd\n",
    "\n",
    "df = pd.read_csv('AAPL.csv')"
   ]
  },
  {
   "cell_type": "code",
   "execution_count": 5,
   "id": "1f44816c",
   "metadata": {},
   "outputs": [
    {
     "data": {
      "text/html": [
       "<div>\n",
       "<style scoped>\n",
       "    .dataframe tbody tr th:only-of-type {\n",
       "        vertical-align: middle;\n",
       "    }\n",
       "\n",
       "    .dataframe tbody tr th {\n",
       "        vertical-align: top;\n",
       "    }\n",
       "\n",
       "    .dataframe thead th {\n",
       "        text-align: right;\n",
       "    }\n",
       "</style>\n",
       "<table border=\"1\" class=\"dataframe\">\n",
       "  <thead>\n",
       "    <tr style=\"text-align: right;\">\n",
       "      <th></th>\n",
       "      <th>symbol</th>\n",
       "      <th>date</th>\n",
       "      <th>close</th>\n",
       "      <th>high</th>\n",
       "      <th>low</th>\n",
       "      <th>open</th>\n",
       "      <th>volume</th>\n",
       "      <th>adjClose</th>\n",
       "      <th>adjHigh</th>\n",
       "      <th>adjLow</th>\n",
       "      <th>adjOpen</th>\n",
       "      <th>adjVolume</th>\n",
       "      <th>divCash</th>\n",
       "      <th>splitFactor</th>\n",
       "    </tr>\n",
       "  </thead>\n",
       "  <tbody>\n",
       "    <tr>\n",
       "      <th>0</th>\n",
       "      <td>AAPL</td>\n",
       "      <td>2017-02-08 00:00:00+00:00</td>\n",
       "      <td>132.04</td>\n",
       "      <td>132.220</td>\n",
       "      <td>131.22</td>\n",
       "      <td>131.35</td>\n",
       "      <td>23004072</td>\n",
       "      <td>31.028384</td>\n",
       "      <td>31.070683</td>\n",
       "      <td>30.835690</td>\n",
       "      <td>30.866239</td>\n",
       "      <td>92016288</td>\n",
       "      <td>0.00</td>\n",
       "      <td>1.0</td>\n",
       "    </tr>\n",
       "    <tr>\n",
       "      <th>1</th>\n",
       "      <td>AAPL</td>\n",
       "      <td>2017-02-09 00:00:00+00:00</td>\n",
       "      <td>132.42</td>\n",
       "      <td>132.445</td>\n",
       "      <td>131.12</td>\n",
       "      <td>131.65</td>\n",
       "      <td>28349859</td>\n",
       "      <td>31.251627</td>\n",
       "      <td>31.257527</td>\n",
       "      <td>30.944822</td>\n",
       "      <td>31.069904</td>\n",
       "      <td>113399436</td>\n",
       "      <td>0.57</td>\n",
       "      <td>1.0</td>\n",
       "    </tr>\n",
       "    <tr>\n",
       "      <th>2</th>\n",
       "      <td>AAPL</td>\n",
       "      <td>2017-02-10 00:00:00+00:00</td>\n",
       "      <td>132.12</td>\n",
       "      <td>132.940</td>\n",
       "      <td>132.05</td>\n",
       "      <td>132.46</td>\n",
       "      <td>20065458</td>\n",
       "      <td>31.180825</td>\n",
       "      <td>31.374349</td>\n",
       "      <td>31.164305</td>\n",
       "      <td>31.261067</td>\n",
       "      <td>80261832</td>\n",
       "      <td>0.00</td>\n",
       "      <td>1.0</td>\n",
       "    </tr>\n",
       "    <tr>\n",
       "      <th>3</th>\n",
       "      <td>AAPL</td>\n",
       "      <td>2017-02-13 00:00:00+00:00</td>\n",
       "      <td>133.29</td>\n",
       "      <td>133.820</td>\n",
       "      <td>132.75</td>\n",
       "      <td>133.08</td>\n",
       "      <td>23035421</td>\n",
       "      <td>31.456950</td>\n",
       "      <td>31.582032</td>\n",
       "      <td>31.329508</td>\n",
       "      <td>31.407389</td>\n",
       "      <td>92141684</td>\n",
       "      <td>0.00</td>\n",
       "      <td>1.0</td>\n",
       "    </tr>\n",
       "    <tr>\n",
       "      <th>4</th>\n",
       "      <td>AAPL</td>\n",
       "      <td>2017-02-14 00:00:00+00:00</td>\n",
       "      <td>135.02</td>\n",
       "      <td>135.090</td>\n",
       "      <td>133.25</td>\n",
       "      <td>133.47</td>\n",
       "      <td>33226223</td>\n",
       "      <td>31.865237</td>\n",
       "      <td>31.881757</td>\n",
       "      <td>31.447510</td>\n",
       "      <td>31.499431</td>\n",
       "      <td>132904892</td>\n",
       "      <td>0.00</td>\n",
       "      <td>1.0</td>\n",
       "    </tr>\n",
       "  </tbody>\n",
       "</table>\n",
       "</div>"
      ],
      "text/plain": [
       "  symbol                       date   close     high     low    open  \\\n",
       "0   AAPL  2017-02-08 00:00:00+00:00  132.04  132.220  131.22  131.35   \n",
       "1   AAPL  2017-02-09 00:00:00+00:00  132.42  132.445  131.12  131.65   \n",
       "2   AAPL  2017-02-10 00:00:00+00:00  132.12  132.940  132.05  132.46   \n",
       "3   AAPL  2017-02-13 00:00:00+00:00  133.29  133.820  132.75  133.08   \n",
       "4   AAPL  2017-02-14 00:00:00+00:00  135.02  135.090  133.25  133.47   \n",
       "\n",
       "     volume   adjClose    adjHigh     adjLow    adjOpen  adjVolume  divCash  \\\n",
       "0  23004072  31.028384  31.070683  30.835690  30.866239   92016288     0.00   \n",
       "1  28349859  31.251627  31.257527  30.944822  31.069904  113399436     0.57   \n",
       "2  20065458  31.180825  31.374349  31.164305  31.261067   80261832     0.00   \n",
       "3  23035421  31.456950  31.582032  31.329508  31.407389   92141684     0.00   \n",
       "4  33226223  31.865237  31.881757  31.447510  31.499431  132904892     0.00   \n",
       "\n",
       "   splitFactor  \n",
       "0          1.0  \n",
       "1          1.0  \n",
       "2          1.0  \n",
       "3          1.0  \n",
       "4          1.0  "
      ]
     },
     "execution_count": 5,
     "metadata": {},
     "output_type": "execute_result"
    }
   ],
   "source": [
    "df.head()"
   ]
  },
  {
   "cell_type": "code",
   "execution_count": 6,
   "id": "ad3d0bb0",
   "metadata": {},
   "outputs": [
    {
     "data": {
      "text/html": [
       "<div>\n",
       "<style scoped>\n",
       "    .dataframe tbody tr th:only-of-type {\n",
       "        vertical-align: middle;\n",
       "    }\n",
       "\n",
       "    .dataframe tbody tr th {\n",
       "        vertical-align: top;\n",
       "    }\n",
       "\n",
       "    .dataframe thead th {\n",
       "        text-align: right;\n",
       "    }\n",
       "</style>\n",
       "<table border=\"1\" class=\"dataframe\">\n",
       "  <thead>\n",
       "    <tr style=\"text-align: right;\">\n",
       "      <th></th>\n",
       "      <th>symbol</th>\n",
       "      <th>date</th>\n",
       "      <th>close</th>\n",
       "      <th>high</th>\n",
       "      <th>low</th>\n",
       "      <th>open</th>\n",
       "      <th>volume</th>\n",
       "      <th>adjClose</th>\n",
       "      <th>adjHigh</th>\n",
       "      <th>adjLow</th>\n",
       "      <th>adjOpen</th>\n",
       "      <th>adjVolume</th>\n",
       "      <th>divCash</th>\n",
       "      <th>splitFactor</th>\n",
       "    </tr>\n",
       "  </thead>\n",
       "  <tbody>\n",
       "    <tr>\n",
       "      <th>1253</th>\n",
       "      <td>AAPL</td>\n",
       "      <td>2022-01-31 00:00:00+00:00</td>\n",
       "      <td>174.78</td>\n",
       "      <td>175.0000</td>\n",
       "      <td>169.51</td>\n",
       "      <td>170.160</td>\n",
       "      <td>115541590</td>\n",
       "      <td>174.557234</td>\n",
       "      <td>174.776954</td>\n",
       "      <td>169.293951</td>\n",
       "      <td>169.943123</td>\n",
       "      <td>115541590</td>\n",
       "      <td>0.00</td>\n",
       "      <td>1.0</td>\n",
       "    </tr>\n",
       "    <tr>\n",
       "      <th>1254</th>\n",
       "      <td>AAPL</td>\n",
       "      <td>2022-02-01 00:00:00+00:00</td>\n",
       "      <td>174.61</td>\n",
       "      <td>174.8400</td>\n",
       "      <td>172.31</td>\n",
       "      <td>174.010</td>\n",
       "      <td>86213911</td>\n",
       "      <td>174.387451</td>\n",
       "      <td>174.617158</td>\n",
       "      <td>172.090382</td>\n",
       "      <td>173.788216</td>\n",
       "      <td>86213911</td>\n",
       "      <td>0.00</td>\n",
       "      <td>1.0</td>\n",
       "    </tr>\n",
       "    <tr>\n",
       "      <th>1255</th>\n",
       "      <td>AAPL</td>\n",
       "      <td>2022-02-02 00:00:00+00:00</td>\n",
       "      <td>175.84</td>\n",
       "      <td>175.8800</td>\n",
       "      <td>173.33</td>\n",
       "      <td>174.745</td>\n",
       "      <td>84914256</td>\n",
       "      <td>175.615883</td>\n",
       "      <td>175.655832</td>\n",
       "      <td>173.109082</td>\n",
       "      <td>174.522279</td>\n",
       "      <td>84914256</td>\n",
       "      <td>0.00</td>\n",
       "      <td>1.0</td>\n",
       "    </tr>\n",
       "    <tr>\n",
       "      <th>1256</th>\n",
       "      <td>AAPL</td>\n",
       "      <td>2022-02-03 00:00:00+00:00</td>\n",
       "      <td>172.90</td>\n",
       "      <td>176.2399</td>\n",
       "      <td>172.12</td>\n",
       "      <td>174.480</td>\n",
       "      <td>89418074</td>\n",
       "      <td>172.679630</td>\n",
       "      <td>176.015274</td>\n",
       "      <td>171.900625</td>\n",
       "      <td>174.257617</td>\n",
       "      <td>89418074</td>\n",
       "      <td>0.00</td>\n",
       "      <td>1.0</td>\n",
       "    </tr>\n",
       "    <tr>\n",
       "      <th>1257</th>\n",
       "      <td>AAPL</td>\n",
       "      <td>2022-02-04 00:00:00+00:00</td>\n",
       "      <td>172.39</td>\n",
       "      <td>174.1000</td>\n",
       "      <td>170.68</td>\n",
       "      <td>171.680</td>\n",
       "      <td>82465400</td>\n",
       "      <td>172.390000</td>\n",
       "      <td>174.100000</td>\n",
       "      <td>170.680000</td>\n",
       "      <td>171.680000</td>\n",
       "      <td>82465400</td>\n",
       "      <td>0.22</td>\n",
       "      <td>1.0</td>\n",
       "    </tr>\n",
       "  </tbody>\n",
       "</table>\n",
       "</div>"
      ],
      "text/plain": [
       "     symbol                       date   close      high     low     open  \\\n",
       "1253   AAPL  2022-01-31 00:00:00+00:00  174.78  175.0000  169.51  170.160   \n",
       "1254   AAPL  2022-02-01 00:00:00+00:00  174.61  174.8400  172.31  174.010   \n",
       "1255   AAPL  2022-02-02 00:00:00+00:00  175.84  175.8800  173.33  174.745   \n",
       "1256   AAPL  2022-02-03 00:00:00+00:00  172.90  176.2399  172.12  174.480   \n",
       "1257   AAPL  2022-02-04 00:00:00+00:00  172.39  174.1000  170.68  171.680   \n",
       "\n",
       "         volume    adjClose     adjHigh      adjLow     adjOpen  adjVolume  \\\n",
       "1253  115541590  174.557234  174.776954  169.293951  169.943123  115541590   \n",
       "1254   86213911  174.387451  174.617158  172.090382  173.788216   86213911   \n",
       "1255   84914256  175.615883  175.655832  173.109082  174.522279   84914256   \n",
       "1256   89418074  172.679630  176.015274  171.900625  174.257617   89418074   \n",
       "1257   82465400  172.390000  174.100000  170.680000  171.680000   82465400   \n",
       "\n",
       "      divCash  splitFactor  \n",
       "1253     0.00          1.0  \n",
       "1254     0.00          1.0  \n",
       "1255     0.00          1.0  \n",
       "1256     0.00          1.0  \n",
       "1257     0.22          1.0  "
      ]
     },
     "execution_count": 6,
     "metadata": {},
     "output_type": "execute_result"
    }
   ],
   "source": [
    "df.tail()"
   ]
  },
  {
   "cell_type": "code",
   "execution_count": 7,
   "id": "81795c0d",
   "metadata": {
    "scrolled": true
   },
   "outputs": [
    {
     "data": {
      "text/plain": [
       "(1258, 14)"
      ]
     },
     "execution_count": 7,
     "metadata": {},
     "output_type": "execute_result"
    }
   ],
   "source": [
    "df.shape"
   ]
  },
  {
   "cell_type": "code",
   "execution_count": 8,
   "id": "ba60f2c3",
   "metadata": {},
   "outputs": [],
   "source": [
    "df1 = df.reset_index()['close'] "
   ]
  },
  {
   "cell_type": "code",
   "execution_count": 9,
   "id": "524492a7",
   "metadata": {},
   "outputs": [
    {
     "data": {
      "text/plain": [
       "(1258,)"
      ]
     },
     "execution_count": 9,
     "metadata": {},
     "output_type": "execute_result"
    }
   ],
   "source": [
    "df1.shape"
   ]
  },
  {
   "cell_type": "code",
   "execution_count": 10,
   "id": "0b3d1e59",
   "metadata": {},
   "outputs": [
    {
     "data": {
      "text/plain": [
       "[<matplotlib.lines.Line2D at 0x1ea8c475e20>]"
      ]
     },
     "execution_count": 10,
     "metadata": {},
     "output_type": "execute_result"
    },
    {
     "data": {
      "image/png": "[encoded data removed]",
      "text/plain": [
       "<Figure size 432x288 with 1 Axes>"
      ]
     },
     "metadata": {
      "needs_background": "light"
     },
     "output_type": "display_data"
    }
   ],
   "source": [
    "import matplotlib.pyplot as plt\n",
    "plt.plot(df1)"
   ]
  },
  {
   "cell_type": "code",
   "execution_count": 11,
   "id": "04133139",
   "metadata": {},
   "outputs": [],
   "source": [
    "# LSTM are sensitive to the scale of the data.So, we apply MinMax Scaler"
   ]
  },
  {
   "cell_type": "code",
   "execution_count": 12,
   "id": "505843a4",
   "metadata": {},
   "outputs": [],
   "source": [
    "import numpy as np"
   ]
  },
  {
   "cell_type": "code",
   "execution_count": 13,
   "id": "288b05cb",
   "metadata": {},
   "outputs": [],
   "source": [
    "from sklearn.preprocessing import MinMaxScaler\n",
    "scaler = MinMaxScaler(feature_range=(0,1))\n",
    "df1 = scaler.fit_transform(np.array(df1).reshape(-1,1))"
   ]
  },
  {
   "cell_type": "code",
   "execution_count": 14,
   "id": "0c3a8ed5",
   "metadata": {},
   "outputs": [
    {
     "data": {
      "text/plain": [
       "array([[0.06311835],\n",
       "       [0.06407013],\n",
       "       [0.06331872],\n",
       "       ...,\n",
       "       [0.17282405],\n",
       "       [0.16546024],\n",
       "       [0.16418284]])"
      ]
     },
     "execution_count": 14,
     "metadata": {},
     "output_type": "execute_result"
    }
   ],
   "source": [
    "df1"
   ]
  },
  {
   "cell_type": "code",
   "execution_count": 15,
   "id": "a1d0eec9",
   "metadata": {},
   "outputs": [],
   "source": [
    "# Whenever there is timeseries or sequence kind of data the next data is always dependent\n",
    "# on previous data so we will do the train test split as first 60% or 70% as Train data and\n",
    "# next 20% or 30% data as Test data"
   ]
  },
  {
   "cell_type": "code",
   "execution_count": 17,
   "id": "938203c9",
   "metadata": {},
   "outputs": [],
   "source": [
    "# splitting data into train and test data\n",
    "training_size = int(len(df1)*0.65) # first 65% are used for training \n",
    "test_size = len(df1) - training_size   # other 35% are used for testing\n",
    "train_data,test_data=df1[0:training_size,:],df1[training_size:len(df1),:]"
   ]
  },
  {
   "cell_type": "code",
   "execution_count": 18,
   "id": "eefcd3a7",
   "metadata": {},
   "outputs": [
    {
     "data": {
      "text/plain": [
       "(817, 441)"
      ]
     },
     "execution_count": 18,
     "metadata": {},
     "output_type": "execute_result"
    }
   ],
   "source": [
    "training_size,test_size"
   ]
  },
  {
   "cell_type": "code",
   "execution_count": 20,
   "id": "c211a79f",
   "metadata": {},
   "outputs": [
    {
     "data": {
      "text/plain": [
       "(817, 441)"
      ]
     },
     "execution_count": 20,
     "metadata": {},
     "output_type": "execute_result"
    }
   ],
   "source": [
    "len(train_data),len(test_data)"
   ]
  },
  {
   "cell_type": "code",
   "execution_count": 21,
   "id": "8dff88ea",
   "metadata": {},
   "outputs": [],
   "source": [
    "# convert an array of values into a dataset matrix\n",
    "def create_dataset(dataset,timestep=1): # time_step=1 is just to intialize variable as real value we've given is 100\n",
    "    dataX , dataY = [],[]\n",
    "    for i in range(len(dataset)-timestep-1):\n",
    "        a = dataset[i:(i+timestep),0] # i=0, 0f,1,2,3....99  100\n",
    "        dataX.append(a)\n",
    "        dataY.append(dataset[i+timestep,0])\n",
    "    return np.array(dataX) ,np.array(dataY)"
   ]
  },
  {
   "cell_type": "code",
   "execution_count": 22,
   "id": "4560df1e",
   "metadata": {},
   "outputs": [],
   "source": [
    "# reshape into X=t,t+1,t+2,t+3    and Y = t+4\n",
    "# Basically X takes first 99 element and 100th element pasted into y and so on.\n",
    "time_step = 100\n",
    "X_train,y_train = create_dataset(train_data,time_step)\n",
    "X_test,y_test = create_dataset(test_data,time_step)"
   ]
  },
  {
   "cell_type": "code",
   "execution_count": 26,
   "id": "847950ba",
   "metadata": {
    "scrolled": true
   },
   "outputs": [
    {
     "name": "stdout",
     "output_type": "stream",
     "text": [
      "[[0.06311835 0.06407013 0.06331872 ... 0.09765811 0.09227301 0.09312461]\n",
      " [0.06407013 0.06331872 0.06624922 ... 0.09227301 0.09312461 0.09182217]\n",
      " [0.06331872 0.06624922 0.07058234 ... 0.09312461 0.09182217 0.09329994]\n",
      " ...\n",
      " [0.40095178 0.40485911 0.41059487 ... 0.45307451 0.46827802 0.45643081]\n",
      " [0.40485911 0.41059487 0.41232311 ... 0.46827802 0.45643081 0.46667502]\n",
      " [0.41059487 0.41232311 0.42156544 ... 0.45643081 0.46667502 0.47769568]]\n",
      "(716, 100)\n"
     ]
    }
   ],
   "source": [
    "# As we have taken timestep 100 each row of X have 100 feature\n",
    "print(X_train)\n",
    "print(X_train.shape) # X has 716 row and 100 column as we have taken timestep=100"
   ]
  },
  {
   "cell_type": "code",
   "execution_count": 29,
   "id": "4a372cb8",
   "metadata": {},
   "outputs": [
    {
     "data": {
      "text/plain": [
       "(340, 100)"
      ]
     },
     "execution_count": 29,
     "metadata": {},
     "output_type": "execute_result"
    }
   ],
   "source": [
    "X_test.shape"
   ]
  },
  {
   "cell_type": "code",
   "execution_count": 30,
   "id": "9ce3eafd",
   "metadata": {},
   "outputs": [],
   "source": [
    "# reshape input to be [sample, timestep, features] which is required for LSTM\n",
    "# This step of reshape is required in LSTM models.\n",
    "\n",
    "X_train = X_train.reshape(X_train.shape[0],X_train.shape[1],1)\n",
    "X_test = X_test.reshape(X_test.shape[0],X_test.shape[1],1)"
   ]
  },
  {
   "cell_type": "code",
   "execution_count": 32,
   "id": "bb6f8494",
   "metadata": {},
   "outputs": [],
   "source": [
    "# Create the stacked LSTM model\n",
    "from tensorflow.keras.models import Sequential\n",
    "from tensorflow.keras.layers import Dense\n",
    "from tensorflow.keras.layers import LSTM"
   ]
  },
  {
   "cell_type": "code",
   "execution_count": 33,
   "id": "21bbf48b",
   "metadata": {},
   "outputs": [],
   "source": [
    "model=Sequential()\n",
    "\n",
    "# As this is stacked LSTM model we will be adding layers of LSTM\n",
    "# 1st LSTM layers with 50 hidden layers and in the start we add features\n",
    "# which we have here total 101 features in X.\n",
    "model.add(LSTM(50,return_sequences=True,input_shape=(100,1))) \n",
    "# 2nd LSTM layers with 50 hidden layers\n",
    "model.add(LSTM(50,return_sequences=True))\n",
    "# 3rd LSTM layers with 50 hidden layers\n",
    "model.add(LSTM(50))\n",
    "model.add(Dense(1))\n",
    "model.compile(loss='mean_squared_error',optimizer='adam')"
   ]
  },
  {
   "cell_type": "code",
   "execution_count": 37,
   "id": "24adf8c6",
   "metadata": {},
   "outputs": [
    {
     "name": "stdout",
     "output_type": "stream",
     "text": [
      "Model: \"sequential\"\n",
      "_________________________________________________________________\n",
      " Layer (type)                Output Shape              Param #   \n",
      "=================================================================\n",
      " lstm (LSTM)                 (None, 100, 50)           10400     \n",
      "                                                                 \n",
      " lstm_1 (LSTM)               (None, 100, 50)           20200     \n",
      "                                                                 \n",
      " lstm_2 (LSTM)               (None, 50)                20200     \n",
      "                                                                 \n",
      " dense (Dense)               (None, 1)                 51        \n",
      "                                                                 \n",
      "=================================================================\n",
      "Total params: 50,851\n",
      "Trainable params: 50,851\n",
      "Non-trainable params: 0\n",
      "_________________________________________________________________\n"
     ]
    }
   ],
   "source": [
    "model.summary()"
   ]
  },
  {
   "cell_type": "code",
   "execution_count": 38,
   "id": "a6b5c1a9",
   "metadata": {},
   "outputs": [
    {
     "name": "stdout",
     "output_type": "stream",
     "text": [
      "Epoch 1/100\n",
      "12/12 [==============================] - 5s 177ms/step - loss: 0.0254 - val_loss: 0.0045\n",
      "Epoch 2/100\n",
      "12/12 [==============================] - 1s 118ms/step - loss: 0.0048 - val_loss: 0.0081\n",
      "Epoch 3/100\n",
      "12/12 [==============================] - 1s 114ms/step - loss: 0.0029 - val_loss: 0.0016\n",
      "Epoch 4/100\n",
      "12/12 [==============================] - 1s 116ms/step - loss: 0.0013 - val_loss: 5.0868e-04\n",
      "Epoch 5/100\n",
      "12/12 [==============================] - 1s 118ms/step - loss: 0.0012 - val_loss: 4.2310e-04\n",
      "Epoch 6/100\n",
      "12/12 [==============================] - 1s 121ms/step - loss: 0.0011 - val_loss: 7.0776e-04\n",
      "Epoch 7/100\n",
      "12/12 [==============================] - 1s 117ms/step - loss: 0.0010 - val_loss: 6.7734e-04\n",
      "Epoch 8/100\n",
      "12/12 [==============================] - 1s 115ms/step - loss: 9.6249e-04 - val_loss: 3.9220e-04\n",
      "Epoch 9/100\n",
      "12/12 [==============================] - 1s 113ms/step - loss: 8.7867e-04 - val_loss: 4.0170e-04\n",
      "Epoch 10/100\n",
      "12/12 [==============================] - 1s 117ms/step - loss: 8.3895e-04 - val_loss: 2.7986e-04\n",
      "Epoch 11/100\n",
      "12/12 [==============================] - 1s 111ms/step - loss: 7.8705e-04 - val_loss: 2.7483e-04\n",
      "Epoch 12/100\n",
      "12/12 [==============================] - 1s 113ms/step - loss: 7.5546e-04 - val_loss: 2.3977e-04\n",
      "Epoch 13/100\n",
      "12/12 [==============================] - 1s 115ms/step - loss: 6.8432e-04 - val_loss: 2.3669e-04\n",
      "Epoch 14/100\n",
      "12/12 [==============================] - 1s 112ms/step - loss: 6.2347e-04 - val_loss: 3.0081e-04\n",
      "Epoch 15/100\n",
      "12/12 [==============================] - 1s 111ms/step - loss: 5.9324e-04 - val_loss: 3.9870e-04\n",
      "Epoch 16/100\n",
      "12/12 [==============================] - 1s 116ms/step - loss: 5.1903e-04 - val_loss: 4.8247e-04\n",
      "Epoch 17/100\n",
      "12/12 [==============================] - 1s 120ms/step - loss: 5.1630e-04 - val_loss: 4.3559e-04\n",
      "Epoch 18/100\n",
      "12/12 [==============================] - 2s 128ms/step - loss: 5.1497e-04 - val_loss: 3.8900e-04\n",
      "Epoch 19/100\n",
      "12/12 [==============================] - 1s 123ms/step - loss: 4.6928e-04 - val_loss: 3.6222e-04\n",
      "Epoch 20/100\n",
      "12/12 [==============================] - 1s 124ms/step - loss: 5.7576e-04 - val_loss: 3.0422e-04\n",
      "Epoch 21/100\n",
      "12/12 [==============================] - 1s 117ms/step - loss: 5.1133e-04 - val_loss: 2.8161e-04\n",
      "Epoch 22/100\n",
      "12/12 [==============================] - 1s 119ms/step - loss: 4.9712e-04 - val_loss: 3.0676e-04\n",
      "Epoch 23/100\n",
      "12/12 [==============================] - 1s 116ms/step - loss: 4.7983e-04 - val_loss: 2.7431e-04\n",
      "Epoch 24/100\n",
      "12/12 [==============================] - 1s 120ms/step - loss: 4.4833e-04 - val_loss: 2.5197e-04\n",
      "Epoch 25/100\n",
      "12/12 [==============================] - 1s 112ms/step - loss: 4.9395e-04 - val_loss: 2.6063e-04\n",
      "Epoch 26/100\n",
      "12/12 [==============================] - 1s 112ms/step - loss: 4.2969e-04 - val_loss: 2.3545e-04\n",
      "Epoch 27/100\n",
      "12/12 [==============================] - 1s 112ms/step - loss: 4.3659e-04 - val_loss: 2.1602e-04\n",
      "Epoch 28/100\n",
      "12/12 [==============================] - 1s 111ms/step - loss: 4.4346e-04 - val_loss: 2.4136e-04\n",
      "Epoch 29/100\n",
      "12/12 [==============================] - 1s 111ms/step - loss: 4.4328e-04 - val_loss: 2.1098e-04\n",
      "Epoch 30/100\n",
      "12/12 [==============================] - 1s 112ms/step - loss: 4.0864e-04 - val_loss: 2.0825e-04\n",
      "Epoch 31/100\n",
      "12/12 [==============================] - 1s 111ms/step - loss: 4.0020e-04 - val_loss: 2.0845e-04\n",
      "Epoch 32/100\n",
      "12/12 [==============================] - 1s 111ms/step - loss: 4.3748e-04 - val_loss: 2.1188e-04\n",
      "Epoch 33/100\n",
      "12/12 [==============================] - 1s 111ms/step - loss: 4.3778e-04 - val_loss: 1.9661e-04\n",
      "Epoch 34/100\n",
      "12/12 [==============================] - 1s 110ms/step - loss: 4.5589e-04 - val_loss: 2.4795e-04\n",
      "Epoch 35/100\n",
      "12/12 [==============================] - 1s 111ms/step - loss: 4.0796e-04 - val_loss: 2.0025e-04\n",
      "Epoch 36/100\n",
      "12/12 [==============================] - 1s 111ms/step - loss: 4.9529e-04 - val_loss: 2.4488e-04\n",
      "Epoch 37/100\n",
      "12/12 [==============================] - 1s 110ms/step - loss: 4.4755e-04 - val_loss: 1.9678e-04\n",
      "Epoch 38/100\n",
      "12/12 [==============================] - 1s 112ms/step - loss: 3.9121e-04 - val_loss: 1.8739e-04\n",
      "Epoch 39/100\n",
      "12/12 [==============================] - 1s 112ms/step - loss: 3.8728e-04 - val_loss: 1.9993e-04\n",
      "Epoch 40/100\n",
      "12/12 [==============================] - 1s 112ms/step - loss: 3.9348e-04 - val_loss: 2.3710e-04\n",
      "Epoch 41/100\n",
      "12/12 [==============================] - 1s 111ms/step - loss: 3.8669e-04 - val_loss: 2.0621e-04\n",
      "Epoch 42/100\n",
      "12/12 [==============================] - 1s 121ms/step - loss: 3.7423e-04 - val_loss: 2.1728e-04\n",
      "Epoch 43/100\n",
      "12/12 [==============================] - 1s 118ms/step - loss: 3.7339e-04 - val_loss: 2.1495e-04\n",
      "Epoch 44/100\n",
      "12/12 [==============================] - 1s 120ms/step - loss: 3.9760e-04 - val_loss: 2.1909e-04\n",
      "Epoch 45/100\n",
      "12/12 [==============================] - 2s 130ms/step - loss: 3.9444e-04 - val_loss: 2.1025e-04\n",
      "Epoch 46/100\n",
      "12/12 [==============================] - 1s 123ms/step - loss: 3.8694e-04 - val_loss: 1.8651e-04\n",
      "Epoch 47/100\n",
      "12/12 [==============================] - 1s 119ms/step - loss: 5.1969e-04 - val_loss: 2.6611e-04\n",
      "Epoch 48/100\n",
      "12/12 [==============================] - 1s 119ms/step - loss: 4.0423e-04 - val_loss: 3.1860e-04\n",
      "Epoch 49/100\n",
      "12/12 [==============================] - 1s 115ms/step - loss: 4.2046e-04 - val_loss: 1.8241e-04\n",
      "Epoch 50/100\n",
      "12/12 [==============================] - 1s 119ms/step - loss: 3.8430e-04 - val_loss: 2.2875e-04\n",
      "Epoch 51/100\n",
      "12/12 [==============================] - 1s 118ms/step - loss: 3.6476e-04 - val_loss: 1.8938e-04\n",
      "Epoch 52/100\n",
      "12/12 [==============================] - 1s 117ms/step - loss: 3.5892e-04 - val_loss: 1.8053e-04\n",
      "Epoch 53/100\n",
      "12/12 [==============================] - 1s 115ms/step - loss: 3.6817e-04 - val_loss: 2.0401e-04\n",
      "Epoch 54/100\n",
      "12/12 [==============================] - 1s 116ms/step - loss: 3.8223e-04 - val_loss: 2.9495e-04\n",
      "Epoch 55/100\n",
      "12/12 [==============================] - 1s 116ms/step - loss: 3.8793e-04 - val_loss: 2.0536e-04\n",
      "Epoch 56/100\n",
      "12/12 [==============================] - 1s 116ms/step - loss: 3.6550e-04 - val_loss: 2.2684e-04\n",
      "Epoch 57/100\n",
      "12/12 [==============================] - 2s 134ms/step - loss: 4.0367e-04 - val_loss: 2.2018e-04\n",
      "Epoch 58/100\n",
      "12/12 [==============================] - 2s 129ms/step - loss: 3.6540e-04 - val_loss: 2.0899e-04\n",
      "Epoch 59/100\n",
      "12/12 [==============================] - 1s 120ms/step - loss: 3.5539e-04 - val_loss: 1.9049e-04\n",
      "Epoch 60/100\n",
      "12/12 [==============================] - 1s 117ms/step - loss: 3.7171e-04 - val_loss: 2.5248e-04\n",
      "Epoch 61/100\n",
      "12/12 [==============================] - 1s 122ms/step - loss: 3.3853e-04 - val_loss: 1.8065e-04\n",
      "Epoch 62/100\n",
      "12/12 [==============================] - 1s 115ms/step - loss: 3.6940e-04 - val_loss: 2.4092e-04\n",
      "Epoch 63/100\n",
      "12/12 [==============================] - 1s 114ms/step - loss: 3.3772e-04 - val_loss: 1.8088e-04\n",
      "Epoch 64/100\n",
      "12/12 [==============================] - 1s 115ms/step - loss: 3.3162e-04 - val_loss: 1.9394e-04\n",
      "Epoch 65/100\n",
      "12/12 [==============================] - 1s 118ms/step - loss: 3.3596e-04 - val_loss: 2.0000e-04\n",
      "Epoch 66/100\n",
      "12/12 [==============================] - 1s 115ms/step - loss: 3.5322e-04 - val_loss: 3.1038e-04\n",
      "Epoch 67/100\n",
      "12/12 [==============================] - 1s 115ms/step - loss: 4.2158e-04 - val_loss: 2.0344e-04\n",
      "Epoch 68/100\n",
      "12/12 [==============================] - 1s 114ms/step - loss: 3.7783e-04 - val_loss: 2.9011e-04\n",
      "Epoch 69/100\n",
      "12/12 [==============================] - 1s 115ms/step - loss: 3.4505e-04 - val_loss: 2.5928e-04\n",
      "Epoch 70/100\n",
      "12/12 [==============================] - 1s 116ms/step - loss: 4.5596e-04 - val_loss: 2.7366e-04\n",
      "Epoch 71/100\n",
      "12/12 [==============================] - 1s 114ms/step - loss: 3.7408e-04 - val_loss: 2.4189e-04\n",
      "Epoch 72/100\n",
      "12/12 [==============================] - 1s 114ms/step - loss: 3.2089e-04 - val_loss: 2.4302e-04\n",
      "Epoch 73/100\n",
      "12/12 [==============================] - 1s 115ms/step - loss: 3.2159e-04 - val_loss: 2.0436e-04\n",
      "Epoch 74/100\n",
      "12/12 [==============================] - 1s 115ms/step - loss: 3.1484e-04 - val_loss: 2.1894e-04\n",
      "Epoch 75/100\n",
      "12/12 [==============================] - 1s 114ms/step - loss: 3.1067e-04 - val_loss: 1.8572e-04\n"
     ]
    },
    {
     "name": "stdout",
     "output_type": "stream",
     "text": [
      "Epoch 76/100\n",
      "12/12 [==============================] - 1s 117ms/step - loss: 3.4767e-04 - val_loss: 2.4334e-04\n",
      "Epoch 77/100\n",
      "12/12 [==============================] - 1s 114ms/step - loss: 3.6027e-04 - val_loss: 2.7312e-04\n",
      "Epoch 78/100\n",
      "12/12 [==============================] - 1s 113ms/step - loss: 3.8711e-04 - val_loss: 2.0898e-04\n",
      "Epoch 79/100\n",
      "12/12 [==============================] - 1s 115ms/step - loss: 3.2178e-04 - val_loss: 3.3106e-04\n",
      "Epoch 80/100\n",
      "12/12 [==============================] - 1s 115ms/step - loss: 3.2942e-04 - val_loss: 1.9417e-04\n",
      "Epoch 81/100\n",
      "12/12 [==============================] - 1s 115ms/step - loss: 3.1181e-04 - val_loss: 2.6055e-04\n",
      "Epoch 82/100\n",
      "12/12 [==============================] - 1s 116ms/step - loss: 3.2533e-04 - val_loss: 2.7329e-04\n",
      "Epoch 83/100\n",
      "12/12 [==============================] - 1s 115ms/step - loss: 3.6231e-04 - val_loss: 1.9068e-04\n",
      "Epoch 84/100\n",
      "12/12 [==============================] - 1s 114ms/step - loss: 3.8217e-04 - val_loss: 3.2110e-04\n",
      "Epoch 85/100\n",
      "12/12 [==============================] - 1s 115ms/step - loss: 4.6523e-04 - val_loss: 2.5211e-04\n",
      "Epoch 86/100\n",
      "12/12 [==============================] - 1s 114ms/step - loss: 3.5960e-04 - val_loss: 2.3465e-04\n",
      "Epoch 87/100\n",
      "12/12 [==============================] - 1s 115ms/step - loss: 3.0812e-04 - val_loss: 1.5196e-04\n",
      "Epoch 88/100\n",
      "12/12 [==============================] - 1s 123ms/step - loss: 2.9659e-04 - val_loss: 1.6085e-04\n",
      "Epoch 89/100\n",
      "12/12 [==============================] - 2s 127ms/step - loss: 3.5920e-04 - val_loss: 2.1618e-04\n",
      "Epoch 90/100\n",
      "12/12 [==============================] - 1s 122ms/step - loss: 2.7855e-04 - val_loss: 1.8070e-04\n",
      "Epoch 91/100\n",
      "12/12 [==============================] - 1s 117ms/step - loss: 2.6385e-04 - val_loss: 1.9017e-04\n",
      "Epoch 92/100\n",
      "12/12 [==============================] - 2s 131ms/step - loss: 2.7023e-04 - val_loss: 1.8194e-04\n",
      "Epoch 93/100\n",
      "12/12 [==============================] - 2s 131ms/step - loss: 2.7924e-04 - val_loss: 1.7973e-04\n",
      "Epoch 94/100\n",
      "12/12 [==============================] - 1s 120ms/step - loss: 2.7947e-04 - val_loss: 3.1171e-04\n",
      "Epoch 95/100\n",
      "12/12 [==============================] - 2s 125ms/step - loss: 3.6949e-04 - val_loss: 1.8871e-04\n",
      "Epoch 96/100\n",
      "12/12 [==============================] - 1s 120ms/step - loss: 2.7968e-04 - val_loss: 1.8861e-04\n",
      "Epoch 97/100\n",
      "12/12 [==============================] - 1s 118ms/step - loss: 2.6204e-04 - val_loss: 1.5434e-04\n",
      "Epoch 98/100\n",
      "12/12 [==============================] - 1s 115ms/step - loss: 2.9033e-04 - val_loss: 2.5937e-04\n",
      "Epoch 99/100\n",
      "12/12 [==============================] - 1s 116ms/step - loss: 2.7887e-04 - val_loss: 1.4887e-04\n",
      "Epoch 100/100\n",
      "12/12 [==============================] - 1s 115ms/step - loss: 2.5719e-04 - val_loss: 1.7407e-04\n"
     ]
    },
    {
     "data": {
      "text/plain": [
       "<keras.callbacks.History at 0x1ea980f8250>"
      ]
     },
     "execution_count": 38,
     "metadata": {},
     "output_type": "execute_result"
    }
   ],
   "source": [
    "# Now we have to fit the model\n",
    "model.fit(X_train,y_train,validation_data=(X_test,y_test),epochs=100,batch_size=64,verbose=1)\n"
   ]
  },
  {
   "cell_type": "code",
   "execution_count": 39,
   "id": "8296567d",
   "metadata": {},
   "outputs": [],
   "source": [
    "# doing prediction\n",
    "train_predict = model.predict(X_train)\n",
    "test_predict = model.predict(X_test)"
   ]
  },
  {
   "cell_type": "code",
   "execution_count": 40,
   "id": "aad28e5d",
   "metadata": {},
   "outputs": [],
   "source": [
    "# Now, we are doing performance metrics i.e. RMSE \n",
    "# for RMSE we have to inverse transform our train_predict and test_predict\n",
    "train_predict = scaler.inverse_transform(train_predict)\n",
    "test_predict = scaler.inverse_transform(test_predict)"
   ]
  },
  {
   "cell_type": "code",
   "execution_count": 41,
   "id": "4c87f402",
   "metadata": {},
   "outputs": [
    {
     "data": {
      "text/plain": [
       "205.6924851257417"
      ]
     },
     "execution_count": 41,
     "metadata": {},
     "output_type": "execute_result"
    }
   ],
   "source": [
    "# calculate RMSE performance metrics\n",
    "# train data RMSE\n",
    "import math\n",
    "from sklearn.metrics import mean_squared_error\n",
    "math.sqrt(mean_squared_error(y_train,train_predict))"
   ]
  },
  {
   "cell_type": "code",
   "execution_count": 42,
   "id": "1588c65e",
   "metadata": {},
   "outputs": [
    {
     "data": {
      "text/plain": [
       "141.60894646675465"
      ]
     },
     "execution_count": 42,
     "metadata": {},
     "output_type": "execute_result"
    }
   ],
   "source": [
    "# test data RMSE\n",
    "math.sqrt(mean_squared_error(y_test,test_predict))"
   ]
  },
  {
   "cell_type": "code",
   "execution_count": 54,
   "id": "6ab3ba4f",
   "metadata": {
    "scrolled": true
   },
   "outputs": [
    {
     "data": {
      "image/png": "[encoded data removed]",
      "text/plain": [
       "<Figure size 432x288 with 1 Axes>"
      ]
     },
     "metadata": {
      "needs_background": "light"
     },
     "output_type": "display_data"
    }
   ],
   "source": [
    "### Plotting \n",
    "# shift train predictions for plotting\n",
    "look_back=100\n",
    "trainPredictPlot = np.empty_like(df1)\n",
    "trainPredictPlot[:, :] = np.nan\n",
    "trainPredictPlot[look_back:len(train_predict)+look_back, :] = train_predict\n",
    "# shift test predictions for plotting\n",
    "testPredictPlot = np.empty_like(df1)\n",
    "testPredictPlot[:, :] = np.nan\n",
    "testPredictPlot[len(train_predict)+(look_back*2)+1:len(df1)-1, :] = test_predict\n",
    "# plot baseline and predictions\n",
    "plt.plot(scaler.inverse_transform(df1))\n",
    "plt.plot(trainPredictPlot)\n",
    "plt.plot(testPredictPlot)\n",
    "plt.show()\n"
   ]
  },
  {
   "cell_type": "code",
   "execution_count": null,
   "id": "6b55030e",
   "metadata": {},
   "outputs": [],
   "source": [
    "# Predicting the future 30 days output"
   ]
  },
  {
   "cell_type": "code",
   "execution_count": 55,
   "id": "5195acff",
   "metadata": {},
   "outputs": [
    {
     "data": {
      "text/plain": [
       "441"
      ]
     },
     "execution_count": 55,
     "metadata": {},
     "output_type": "execute_result"
    }
   ],
   "source": [
    "len(test_data)"
   ]
  },
  {
   "cell_type": "code",
   "execution_count": 56,
   "id": "4b6dbaa6",
   "metadata": {},
   "outputs": [
    {
     "data": {
      "text/plain": [
       "(1, 100)"
      ]
     },
     "execution_count": 56,
     "metadata": {},
     "output_type": "execute_result"
    }
   ],
   "source": [
    "# now to predict the next day output we have to consider previous 100 days output\n",
    "x_input=test_data[341:].reshape(1,-1) # we are taking previous 100 output\n",
    "x_input.shape"
   ]
  },
  {
   "cell_type": "code",
   "execution_count": 58,
   "id": "a09cd1ee",
   "metadata": {},
   "outputs": [],
   "source": [
    "temp_input = list(x_input)  # we are basically converting x_input to list\n",
    "temp_input = temp_input[0].tolist()"
   ]
  },
  {
   "cell_type": "code",
   "execution_count": 59,
   "id": "5b827ea0",
   "metadata": {},
   "outputs": [
    {
     "name": "stdout",
     "output_type": "stream",
     "text": [
      "[0.16254056]\n",
      "101\n",
      "1 day input [0.10507201 0.09823419 0.09041954 0.09164684 0.0977082  0.10016281\n",
      " 0.10038823 0.09650595 0.0878397  0.09014402 0.08681277 0.08969317\n",
      " 0.08090169 0.08583594 0.08806512 0.09129618 0.09031935 0.09009393\n",
      " 0.08683782 0.085335   0.09247339 0.09517846 0.09946149 0.10499687\n",
      " 0.10624922 0.10680025 0.10482154 0.10469631 0.1063995  0.10522229\n",
      " 0.11453976 0.10760175 0.10549781 0.10815279 0.11183469 0.1105072\n",
      " 0.1113087  0.10920476 0.1101315  0.10289292 0.10276769 0.10807765\n",
      " 0.10810269 0.11060739 0.11684408 0.12781465 0.13452724 0.13570445\n",
      " 0.13668128 0.13800877 0.12515967 0.13375078 0.14642455 0.14509706\n",
      " 0.14256731 0.1377583  0.14647464 0.16115216 0.17092048 0.16961803\n",
      " 0.181866   0.17257358 0.16904195 0.18149029 0.16385723 0.16105197\n",
      " 0.15757044 0.16568566 0.17232311 0.17392611 0.18407013 0.18146525\n",
      " 0.18169067 0.17873513 0.17715717 0.18827802 0.18249217 0.17051972\n",
      " 0.16320601 0.16363181 0.1636819  0.17092048 0.17204759 0.1636819\n",
      " 0.16588604 0.15769568 0.14875391 0.14444584 0.13918597 0.13720726\n",
      " 0.13259862 0.1323732  0.13119599 0.15902317 0.17016907 0.16974327\n",
      " 0.17282405 0.16546024 0.16418284 0.16254056]\n",
      "1 day output [[0.16539457]]\n",
      "2 day input [0.09823419 0.09041954 0.09164684 0.0977082  0.10016281 0.10038823\n",
      " 0.09650595 0.0878397  0.09014402 0.08681277 0.08969317 0.08090169\n",
      " 0.08583594 0.08806512 0.09129618 0.09031935 0.09009393 0.08683782\n",
      " 0.085335   0.09247339 0.09517846 0.09946149 0.10499687 0.10624922\n",
      " 0.10680025 0.10482154 0.10469631 0.1063995  0.10522229 0.11453976\n",
      " 0.10760175 0.10549781 0.10815279 0.11183469 0.1105072  0.1113087\n",
      " 0.10920476 0.1101315  0.10289292 0.10276769 0.10807765 0.10810269\n",
      " 0.11060739 0.11684408 0.12781465 0.13452724 0.13570445 0.13668128\n",
      " 0.13800877 0.12515967 0.13375078 0.14642455 0.14509706 0.14256731\n",
      " 0.1377583  0.14647464 0.16115216 0.17092048 0.16961803 0.181866\n",
      " 0.17257358 0.16904195 0.18149029 0.16385723 0.16105197 0.15757044\n",
      " 0.16568566 0.17232311 0.17392611 0.18407013 0.18146525 0.18169067\n",
      " 0.17873513 0.17715717 0.18827802 0.18249217 0.17051972 0.16320601\n",
      " 0.16363181 0.1636819  0.17092048 0.17204759 0.1636819  0.16588604\n",
      " 0.15769568 0.14875391 0.14444584 0.13918597 0.13720726 0.13259862\n",
      " 0.1323732  0.13119599 0.15902317 0.17016907 0.16974327 0.17282405\n",
      " 0.16546024 0.16418284 0.16254056 0.16539457]\n",
      "2 day output [[0.16681072]]\n",
      "3 day input [0.09041954 0.09164684 0.0977082  0.10016281 0.10038823 0.09650595\n",
      " 0.0878397  0.09014402 0.08681277 0.08969317 0.08090169 0.08583594\n",
      " 0.08806512 0.09129618 0.09031935 0.09009393 0.08683782 0.085335\n",
      " 0.09247339 0.09517846 0.09946149 0.10499687 0.10624922 0.10680025\n",
      " 0.10482154 0.10469631 0.1063995  0.10522229 0.11453976 0.10760175\n",
      " 0.10549781 0.10815279 0.11183469 0.1105072  0.1113087  0.10920476\n",
      " 0.1101315  0.10289292 0.10276769 0.10807765 0.10810269 0.11060739\n",
      " 0.11684408 0.12781465 0.13452724 0.13570445 0.13668128 0.13800877\n",
      " 0.12515967 0.13375078 0.14642455 0.14509706 0.14256731 0.1377583\n",
      " 0.14647464 0.16115216 0.17092048 0.16961803 0.181866   0.17257358\n",
      " 0.16904195 0.18149029 0.16385723 0.16105197 0.15757044 0.16568566\n",
      " 0.17232311 0.17392611 0.18407013 0.18146525 0.18169067 0.17873513\n",
      " 0.17715717 0.18827802 0.18249217 0.17051972 0.16320601 0.16363181\n",
      " 0.1636819  0.17092048 0.17204759 0.1636819  0.16588604 0.15769568\n",
      " 0.14875391 0.14444584 0.13918597 0.13720726 0.13259862 0.1323732\n",
      " 0.13119599 0.15902317 0.17016907 0.16974327 0.17282405 0.16546024\n",
      " 0.16418284 0.16254056 0.16539457 0.16681072]\n",
      "3 day output [[0.16729514]]\n",
      "4 day input [0.09164684 0.0977082  0.10016281 0.10038823 0.09650595 0.0878397\n",
      " 0.09014402 0.08681277 0.08969317 0.08090169 0.08583594 0.08806512\n",
      " 0.09129618 0.09031935 0.09009393 0.08683782 0.085335   0.09247339\n",
      " 0.09517846 0.09946149 0.10499687 0.10624922 0.10680025 0.10482154\n",
      " 0.10469631 0.1063995  0.10522229 0.11453976 0.10760175 0.10549781\n",
      " 0.10815279 0.11183469 0.1105072  0.1113087  0.10920476 0.1101315\n",
      " 0.10289292 0.10276769 0.10807765 0.10810269 0.11060739 0.11684408\n",
      " 0.12781465 0.13452724 0.13570445 0.13668128 0.13800877 0.12515967\n",
      " 0.13375078 0.14642455 0.14509706 0.14256731 0.1377583  0.14647464\n",
      " 0.16115216 0.17092048 0.16961803 0.181866   0.17257358 0.16904195\n",
      " 0.18149029 0.16385723 0.16105197 0.15757044 0.16568566 0.17232311\n",
      " 0.17392611 0.18407013 0.18146525 0.18169067 0.17873513 0.17715717\n",
      " 0.18827802 0.18249217 0.17051972 0.16320601 0.16363181 0.1636819\n",
      " 0.17092048 0.17204759 0.1636819  0.16588604 0.15769568 0.14875391\n",
      " 0.14444584 0.13918597 0.13720726 0.13259862 0.1323732  0.13119599\n",
      " 0.15902317 0.17016907 0.16974327 0.17282405 0.16546024 0.16418284\n",
      " 0.16254056 0.16539457 0.16681072 0.16729514]\n",
      "4 day output [[0.16726413]]\n",
      "5 day input [0.0977082  0.10016281 0.10038823 0.09650595 0.0878397  0.09014402\n",
      " 0.08681277 0.08969317 0.08090169 0.08583594 0.08806512 0.09129618\n",
      " 0.09031935 0.09009393 0.08683782 0.085335   0.09247339 0.09517846\n",
      " 0.09946149 0.10499687 0.10624922 0.10680025 0.10482154 0.10469631\n",
      " 0.1063995  0.10522229 0.11453976 0.10760175 0.10549781 0.10815279\n",
      " 0.11183469 0.1105072  0.1113087  0.10920476 0.1101315  0.10289292\n",
      " 0.10276769 0.10807765 0.10810269 0.11060739 0.11684408 0.12781465\n",
      " 0.13452724 0.13570445 0.13668128 0.13800877 0.12515967 0.13375078\n",
      " 0.14642455 0.14509706 0.14256731 0.1377583  0.14647464 0.16115216\n",
      " 0.17092048 0.16961803 0.181866   0.17257358 0.16904195 0.18149029\n",
      " 0.16385723 0.16105197 0.15757044 0.16568566 0.17232311 0.17392611\n",
      " 0.18407013 0.18146525 0.18169067 0.17873513 0.17715717 0.18827802\n",
      " 0.18249217 0.17051972 0.16320601 0.16363181 0.1636819  0.17092048\n",
      " 0.17204759 0.1636819  0.16588604 0.15769568 0.14875391 0.14444584\n",
      " 0.13918597 0.13720726 0.13259862 0.1323732  0.13119599 0.15902317\n",
      " 0.17016907 0.16974327 0.17282405 0.16546024 0.16418284 0.16254056\n",
      " 0.16539457 0.16681072 0.16729514 0.16726413]\n",
      "5 day output [[0.16698904]]\n",
      "6 day input [0.10016281 0.10038823 0.09650595 0.0878397  0.09014402 0.08681277\n",
      " 0.08969317 0.08090169 0.08583594 0.08806512 0.09129618 0.09031935\n",
      " 0.09009393 0.08683782 0.085335   0.09247339 0.09517846 0.09946149\n",
      " 0.10499687 0.10624922 0.10680025 0.10482154 0.10469631 0.1063995\n",
      " 0.10522229 0.11453976 0.10760175 0.10549781 0.10815279 0.11183469\n",
      " 0.1105072  0.1113087  0.10920476 0.1101315  0.10289292 0.10276769\n",
      " 0.10807765 0.10810269 0.11060739 0.11684408 0.12781465 0.13452724\n",
      " 0.13570445 0.13668128 0.13800877 0.12515967 0.13375078 0.14642455\n",
      " 0.14509706 0.14256731 0.1377583  0.14647464 0.16115216 0.17092048\n",
      " 0.16961803 0.181866   0.17257358 0.16904195 0.18149029 0.16385723\n",
      " 0.16105197 0.15757044 0.16568566 0.17232311 0.17392611 0.18407013\n",
      " 0.18146525 0.18169067 0.17873513 0.17715717 0.18827802 0.18249217\n",
      " 0.17051972 0.16320601 0.16363181 0.1636819  0.17092048 0.17204759\n",
      " 0.1636819  0.16588604 0.15769568 0.14875391 0.14444584 0.13918597\n",
      " 0.13720726 0.13259862 0.1323732  0.13119599 0.15902317 0.17016907\n",
      " 0.16974327 0.17282405 0.16546024 0.16418284 0.16254056 0.16539457\n",
      " 0.16681072 0.16729514 0.16726413 0.16698904]\n",
      "6 day output [[0.16661926]]\n",
      "7 day input [0.10038823 0.09650595 0.0878397  0.09014402 0.08681277 0.08969317\n",
      " 0.08090169 0.08583594 0.08806512 0.09129618 0.09031935 0.09009393\n",
      " 0.08683782 0.085335   0.09247339 0.09517846 0.09946149 0.10499687\n",
      " 0.10624922 0.10680025 0.10482154 0.10469631 0.1063995  0.10522229\n",
      " 0.11453976 0.10760175 0.10549781 0.10815279 0.11183469 0.1105072\n",
      " 0.1113087  0.10920476 0.1101315  0.10289292 0.10276769 0.10807765\n",
      " 0.10810269 0.11060739 0.11684408 0.12781465 0.13452724 0.13570445\n",
      " 0.13668128 0.13800877 0.12515967 0.13375078 0.14642455 0.14509706\n",
      " 0.14256731 0.1377583  0.14647464 0.16115216 0.17092048 0.16961803\n",
      " 0.181866   0.17257358 0.16904195 0.18149029 0.16385723 0.16105197\n",
      " 0.15757044 0.16568566 0.17232311 0.17392611 0.18407013 0.18146525\n",
      " 0.18169067 0.17873513 0.17715717 0.18827802 0.18249217 0.17051972\n",
      " 0.16320601 0.16363181 0.1636819  0.17092048 0.17204759 0.1636819\n",
      " 0.16588604 0.15769568 0.14875391 0.14444584 0.13918597 0.13720726\n",
      " 0.13259862 0.1323732  0.13119599 0.15902317 0.17016907 0.16974327\n",
      " 0.17282405 0.16546024 0.16418284 0.16254056 0.16539457 0.16681072\n",
      " 0.16729514 0.16726413 0.16698904 0.16661926]\n",
      "7 day output [[0.16622458]]\n",
      "8 day input [0.09650595 0.0878397  0.09014402 0.08681277 0.08969317 0.08090169\n",
      " 0.08583594 0.08806512 0.09129618 0.09031935 0.09009393 0.08683782\n",
      " 0.085335   0.09247339 0.09517846 0.09946149 0.10499687 0.10624922\n",
      " 0.10680025 0.10482154 0.10469631 0.1063995  0.10522229 0.11453976\n",
      " 0.10760175 0.10549781 0.10815279 0.11183469 0.1105072  0.1113087\n",
      " 0.10920476 0.1101315  0.10289292 0.10276769 0.10807765 0.10810269\n",
      " 0.11060739 0.11684408 0.12781465 0.13452724 0.13570445 0.13668128\n",
      " 0.13800877 0.12515967 0.13375078 0.14642455 0.14509706 0.14256731\n",
      " 0.1377583  0.14647464 0.16115216 0.17092048 0.16961803 0.181866\n",
      " 0.17257358 0.16904195 0.18149029 0.16385723 0.16105197 0.15757044\n",
      " 0.16568566 0.17232311 0.17392611 0.18407013 0.18146525 0.18169067\n",
      " 0.17873513 0.17715717 0.18827802 0.18249217 0.17051972 0.16320601\n",
      " 0.16363181 0.1636819  0.17092048 0.17204759 0.1636819  0.16588604\n",
      " 0.15769568 0.14875391 0.14444584 0.13918597 0.13720726 0.13259862\n",
      " 0.1323732  0.13119599 0.15902317 0.17016907 0.16974327 0.17282405\n",
      " 0.16546024 0.16418284 0.16254056 0.16539457 0.16681072 0.16729514\n",
      " 0.16726413 0.16698904 0.16661926 0.16622458]\n",
      "8 day output [[0.16583222]]\n",
      "9 day input [0.0878397  0.09014402 0.08681277 0.08969317 0.08090169 0.08583594\n",
      " 0.08806512 0.09129618 0.09031935 0.09009393 0.08683782 0.085335\n",
      " 0.09247339 0.09517846 0.09946149 0.10499687 0.10624922 0.10680025\n",
      " 0.10482154 0.10469631 0.1063995  0.10522229 0.11453976 0.10760175\n",
      " 0.10549781 0.10815279 0.11183469 0.1105072  0.1113087  0.10920476\n",
      " 0.1101315  0.10289292 0.10276769 0.10807765 0.10810269 0.11060739\n",
      " 0.11684408 0.12781465 0.13452724 0.13570445 0.13668128 0.13800877\n",
      " 0.12515967 0.13375078 0.14642455 0.14509706 0.14256731 0.1377583\n",
      " 0.14647464 0.16115216 0.17092048 0.16961803 0.181866   0.17257358\n",
      " 0.16904195 0.18149029 0.16385723 0.16105197 0.15757044 0.16568566\n",
      " 0.17232311 0.17392611 0.18407013 0.18146525 0.18169067 0.17873513\n",
      " 0.17715717 0.18827802 0.18249217 0.17051972 0.16320601 0.16363181\n",
      " 0.1636819  0.17092048 0.17204759 0.1636819  0.16588604 0.15769568\n",
      " 0.14875391 0.14444584 0.13918597 0.13720726 0.13259862 0.1323732\n",
      " 0.13119599 0.15902317 0.17016907 0.16974327 0.17282405 0.16546024\n",
      " 0.16418284 0.16254056 0.16539457 0.16681072 0.16729514 0.16726413\n",
      " 0.16698904 0.16661926 0.16622458 0.16583222]\n",
      "9 day output [[0.16545038]]\n",
      "10 day input [0.09014402 0.08681277 0.08969317 0.08090169 0.08583594 0.08806512\n",
      " 0.09129618 0.09031935 0.09009393 0.08683782 0.085335   0.09247339\n",
      " 0.09517846 0.09946149 0.10499687 0.10624922 0.10680025 0.10482154\n",
      " 0.10469631 0.1063995  0.10522229 0.11453976 0.10760175 0.10549781\n",
      " 0.10815279 0.11183469 0.1105072  0.1113087  0.10920476 0.1101315\n",
      " 0.10289292 0.10276769 0.10807765 0.10810269 0.11060739 0.11684408\n",
      " 0.12781465 0.13452724 0.13570445 0.13668128 0.13800877 0.12515967\n",
      " 0.13375078 0.14642455 0.14509706 0.14256731 0.1377583  0.14647464\n",
      " 0.16115216 0.17092048 0.16961803 0.181866   0.17257358 0.16904195\n",
      " 0.18149029 0.16385723 0.16105197 0.15757044 0.16568566 0.17232311\n",
      " 0.17392611 0.18407013 0.18146525 0.18169067 0.17873513 0.17715717\n",
      " 0.18827802 0.18249217 0.17051972 0.16320601 0.16363181 0.1636819\n",
      " 0.17092048 0.17204759 0.1636819  0.16588604 0.15769568 0.14875391\n",
      " 0.14444584 0.13918597 0.13720726 0.13259862 0.1323732  0.13119599\n",
      " 0.15902317 0.17016907 0.16974327 0.17282405 0.16546024 0.16418284\n",
      " 0.16254056 0.16539457 0.16681072 0.16729514 0.16726413 0.16698904\n",
      " 0.16661926 0.16622458 0.16583222 0.16545038]\n",
      "10 day output [[0.16508101]]\n",
      "11 day input [0.08681277 0.08969317 0.08090169 0.08583594 0.08806512 0.09129618\n",
      " 0.09031935 0.09009393 0.08683782 0.085335   0.09247339 0.09517846\n",
      " 0.09946149 0.10499687 0.10624922 0.10680025 0.10482154 0.10469631\n",
      " 0.1063995  0.10522229 0.11453976 0.10760175 0.10549781 0.10815279\n",
      " 0.11183469 0.1105072  0.1113087  0.10920476 0.1101315  0.10289292\n",
      " 0.10276769 0.10807765 0.10810269 0.11060739 0.11684408 0.12781465\n",
      " 0.13452724 0.13570445 0.13668128 0.13800877 0.12515967 0.13375078\n",
      " 0.14642455 0.14509706 0.14256731 0.1377583  0.14647464 0.16115216\n",
      " 0.17092048 0.16961803 0.181866   0.17257358 0.16904195 0.18149029\n",
      " 0.16385723 0.16105197 0.15757044 0.16568566 0.17232311 0.17392611\n",
      " 0.18407013 0.18146525 0.18169067 0.17873513 0.17715717 0.18827802\n",
      " 0.18249217 0.17051972 0.16320601 0.16363181 0.1636819  0.17092048\n",
      " 0.17204759 0.1636819  0.16588604 0.15769568 0.14875391 0.14444584\n",
      " 0.13918597 0.13720726 0.13259862 0.1323732  0.13119599 0.15902317\n",
      " 0.17016907 0.16974327 0.17282405 0.16546024 0.16418284 0.16254056\n",
      " 0.16539457 0.16681072 0.16729514 0.16726413 0.16698904 0.16661926\n",
      " 0.16622458 0.16583222 0.16545038 0.16508101]\n",
      "11 day output [[0.16472517]]\n",
      "12 day input [0.08969317 0.08090169 0.08583594 0.08806512 0.09129618 0.09031935\n",
      " 0.09009393 0.08683782 0.085335   0.09247339 0.09517846 0.09946149\n",
      " 0.10499687 0.10624922 0.10680025 0.10482154 0.10469631 0.1063995\n",
      " 0.10522229 0.11453976 0.10760175 0.10549781 0.10815279 0.11183469\n",
      " 0.1105072  0.1113087  0.10920476 0.1101315  0.10289292 0.10276769\n",
      " 0.10807765 0.10810269 0.11060739 0.11684408 0.12781465 0.13452724\n",
      " 0.13570445 0.13668128 0.13800877 0.12515967 0.13375078 0.14642455\n",
      " 0.14509706 0.14256731 0.1377583  0.14647464 0.16115216 0.17092048\n",
      " 0.16961803 0.181866   0.17257358 0.16904195 0.18149029 0.16385723\n",
      " 0.16105197 0.15757044 0.16568566 0.17232311 0.17392611 0.18407013\n",
      " 0.18146525 0.18169067 0.17873513 0.17715717 0.18827802 0.18249217\n",
      " 0.17051972 0.16320601 0.16363181 0.1636819  0.17092048 0.17204759\n",
      " 0.1636819  0.16588604 0.15769568 0.14875391 0.14444584 0.13918597\n",
      " 0.13720726 0.13259862 0.1323732  0.13119599 0.15902317 0.17016907\n",
      " 0.16974327 0.17282405 0.16546024 0.16418284 0.16254056 0.16539457\n",
      " 0.16681072 0.16729514 0.16726413 0.16698904 0.16661926 0.16622458\n",
      " 0.16583222 0.16545038 0.16508101 0.16472517]\n"
     ]
    },
    {
     "name": "stdout",
     "output_type": "stream",
     "text": [
      "12 day output [[0.16438419]]\n",
      "13 day input [0.08090169 0.08583594 0.08806512 0.09129618 0.09031935 0.09009393\n",
      " 0.08683782 0.085335   0.09247339 0.09517846 0.09946149 0.10499687\n",
      " 0.10624922 0.10680025 0.10482154 0.10469631 0.1063995  0.10522229\n",
      " 0.11453976 0.10760175 0.10549781 0.10815279 0.11183469 0.1105072\n",
      " 0.1113087  0.10920476 0.1101315  0.10289292 0.10276769 0.10807765\n",
      " 0.10810269 0.11060739 0.11684408 0.12781465 0.13452724 0.13570445\n",
      " 0.13668128 0.13800877 0.12515967 0.13375078 0.14642455 0.14509706\n",
      " 0.14256731 0.1377583  0.14647464 0.16115216 0.17092048 0.16961803\n",
      " 0.181866   0.17257358 0.16904195 0.18149029 0.16385723 0.16105197\n",
      " 0.15757044 0.16568566 0.17232311 0.17392611 0.18407013 0.18146525\n",
      " 0.18169067 0.17873513 0.17715717 0.18827802 0.18249217 0.17051972\n",
      " 0.16320601 0.16363181 0.1636819  0.17092048 0.17204759 0.1636819\n",
      " 0.16588604 0.15769568 0.14875391 0.14444584 0.13918597 0.13720726\n",
      " 0.13259862 0.1323732  0.13119599 0.15902317 0.17016907 0.16974327\n",
      " 0.17282405 0.16546024 0.16418284 0.16254056 0.16539457 0.16681072\n",
      " 0.16729514 0.16726413 0.16698904 0.16661926 0.16622458 0.16583222\n",
      " 0.16545038 0.16508101 0.16472517 0.16438419]\n",
      "13 day output [[0.16405962]]\n",
      "14 day input [0.08583594 0.08806512 0.09129618 0.09031935 0.09009393 0.08683782\n",
      " 0.085335   0.09247339 0.09517846 0.09946149 0.10499687 0.10624922\n",
      " 0.10680025 0.10482154 0.10469631 0.1063995  0.10522229 0.11453976\n",
      " 0.10760175 0.10549781 0.10815279 0.11183469 0.1105072  0.1113087\n",
      " 0.10920476 0.1101315  0.10289292 0.10276769 0.10807765 0.10810269\n",
      " 0.11060739 0.11684408 0.12781465 0.13452724 0.13570445 0.13668128\n",
      " 0.13800877 0.12515967 0.13375078 0.14642455 0.14509706 0.14256731\n",
      " 0.1377583  0.14647464 0.16115216 0.17092048 0.16961803 0.181866\n",
      " 0.17257358 0.16904195 0.18149029 0.16385723 0.16105197 0.15757044\n",
      " 0.16568566 0.17232311 0.17392611 0.18407013 0.18146525 0.18169067\n",
      " 0.17873513 0.17715717 0.18827802 0.18249217 0.17051972 0.16320601\n",
      " 0.16363181 0.1636819  0.17092048 0.17204759 0.1636819  0.16588604\n",
      " 0.15769568 0.14875391 0.14444584 0.13918597 0.13720726 0.13259862\n",
      " 0.1323732  0.13119599 0.15902317 0.17016907 0.16974327 0.17282405\n",
      " 0.16546024 0.16418284 0.16254056 0.16539457 0.16681072 0.16729514\n",
      " 0.16726413 0.16698904 0.16661926 0.16622458 0.16583222 0.16545038\n",
      " 0.16508101 0.16472517 0.16438419 0.16405962]\n",
      "14 day output [[0.16375269]]\n",
      "15 day input [0.08806512 0.09129618 0.09031935 0.09009393 0.08683782 0.085335\n",
      " 0.09247339 0.09517846 0.09946149 0.10499687 0.10624922 0.10680025\n",
      " 0.10482154 0.10469631 0.1063995  0.10522229 0.11453976 0.10760175\n",
      " 0.10549781 0.10815279 0.11183469 0.1105072  0.1113087  0.10920476\n",
      " 0.1101315  0.10289292 0.10276769 0.10807765 0.10810269 0.11060739\n",
      " 0.11684408 0.12781465 0.13452724 0.13570445 0.13668128 0.13800877\n",
      " 0.12515967 0.13375078 0.14642455 0.14509706 0.14256731 0.1377583\n",
      " 0.14647464 0.16115216 0.17092048 0.16961803 0.181866   0.17257358\n",
      " 0.16904195 0.18149029 0.16385723 0.16105197 0.15757044 0.16568566\n",
      " 0.17232311 0.17392611 0.18407013 0.18146525 0.18169067 0.17873513\n",
      " 0.17715717 0.18827802 0.18249217 0.17051972 0.16320601 0.16363181\n",
      " 0.1636819  0.17092048 0.17204759 0.1636819  0.16588604 0.15769568\n",
      " 0.14875391 0.14444584 0.13918597 0.13720726 0.13259862 0.1323732\n",
      " 0.13119599 0.15902317 0.17016907 0.16974327 0.17282405 0.16546024\n",
      " 0.16418284 0.16254056 0.16539457 0.16681072 0.16729514 0.16726413\n",
      " 0.16698904 0.16661926 0.16622458 0.16583222 0.16545038 0.16508101\n",
      " 0.16472517 0.16438419 0.16405962 0.16375269]\n",
      "15 day output [[0.16346392]]\n",
      "16 day input [0.09129618 0.09031935 0.09009393 0.08683782 0.085335   0.09247339\n",
      " 0.09517846 0.09946149 0.10499687 0.10624922 0.10680025 0.10482154\n",
      " 0.10469631 0.1063995  0.10522229 0.11453976 0.10760175 0.10549781\n",
      " 0.10815279 0.11183469 0.1105072  0.1113087  0.10920476 0.1101315\n",
      " 0.10289292 0.10276769 0.10807765 0.10810269 0.11060739 0.11684408\n",
      " 0.12781465 0.13452724 0.13570445 0.13668128 0.13800877 0.12515967\n",
      " 0.13375078 0.14642455 0.14509706 0.14256731 0.1377583  0.14647464\n",
      " 0.16115216 0.17092048 0.16961803 0.181866   0.17257358 0.16904195\n",
      " 0.18149029 0.16385723 0.16105197 0.15757044 0.16568566 0.17232311\n",
      " 0.17392611 0.18407013 0.18146525 0.18169067 0.17873513 0.17715717\n",
      " 0.18827802 0.18249217 0.17051972 0.16320601 0.16363181 0.1636819\n",
      " 0.17092048 0.17204759 0.1636819  0.16588604 0.15769568 0.14875391\n",
      " 0.14444584 0.13918597 0.13720726 0.13259862 0.1323732  0.13119599\n",
      " 0.15902317 0.17016907 0.16974327 0.17282405 0.16546024 0.16418284\n",
      " 0.16254056 0.16539457 0.16681072 0.16729514 0.16726413 0.16698904\n",
      " 0.16661926 0.16622458 0.16583222 0.16545038 0.16508101 0.16472517\n",
      " 0.16438419 0.16405962 0.16375269 0.16346392]\n",
      "16 day output [[0.16319323]]\n",
      "17 day input [0.09031935 0.09009393 0.08683782 0.085335   0.09247339 0.09517846\n",
      " 0.09946149 0.10499687 0.10624922 0.10680025 0.10482154 0.10469631\n",
      " 0.1063995  0.10522229 0.11453976 0.10760175 0.10549781 0.10815279\n",
      " 0.11183469 0.1105072  0.1113087  0.10920476 0.1101315  0.10289292\n",
      " 0.10276769 0.10807765 0.10810269 0.11060739 0.11684408 0.12781465\n",
      " 0.13452724 0.13570445 0.13668128 0.13800877 0.12515967 0.13375078\n",
      " 0.14642455 0.14509706 0.14256731 0.1377583  0.14647464 0.16115216\n",
      " 0.17092048 0.16961803 0.181866   0.17257358 0.16904195 0.18149029\n",
      " 0.16385723 0.16105197 0.15757044 0.16568566 0.17232311 0.17392611\n",
      " 0.18407013 0.18146525 0.18169067 0.17873513 0.17715717 0.18827802\n",
      " 0.18249217 0.17051972 0.16320601 0.16363181 0.1636819  0.17092048\n",
      " 0.17204759 0.1636819  0.16588604 0.15769568 0.14875391 0.14444584\n",
      " 0.13918597 0.13720726 0.13259862 0.1323732  0.13119599 0.15902317\n",
      " 0.17016907 0.16974327 0.17282405 0.16546024 0.16418284 0.16254056\n",
      " 0.16539457 0.16681072 0.16729514 0.16726413 0.16698904 0.16661926\n",
      " 0.16622458 0.16583222 0.16545038 0.16508101 0.16472517 0.16438419\n",
      " 0.16405962 0.16375269 0.16346392 0.16319323]\n",
      "17 day output [[0.1629397]]\n",
      "18 day input [0.09009393 0.08683782 0.085335   0.09247339 0.09517846 0.09946149\n",
      " 0.10499687 0.10624922 0.10680025 0.10482154 0.10469631 0.1063995\n",
      " 0.10522229 0.11453976 0.10760175 0.10549781 0.10815279 0.11183469\n",
      " 0.1105072  0.1113087  0.10920476 0.1101315  0.10289292 0.10276769\n",
      " 0.10807765 0.10810269 0.11060739 0.11684408 0.12781465 0.13452724\n",
      " 0.13570445 0.13668128 0.13800877 0.12515967 0.13375078 0.14642455\n",
      " 0.14509706 0.14256731 0.1377583  0.14647464 0.16115216 0.17092048\n",
      " 0.16961803 0.181866   0.17257358 0.16904195 0.18149029 0.16385723\n",
      " 0.16105197 0.15757044 0.16568566 0.17232311 0.17392611 0.18407013\n",
      " 0.18146525 0.18169067 0.17873513 0.17715717 0.18827802 0.18249217\n",
      " 0.17051972 0.16320601 0.16363181 0.1636819  0.17092048 0.17204759\n",
      " 0.1636819  0.16588604 0.15769568 0.14875391 0.14444584 0.13918597\n",
      " 0.13720726 0.13259862 0.1323732  0.13119599 0.15902317 0.17016907\n",
      " 0.16974327 0.17282405 0.16546024 0.16418284 0.16254056 0.16539457\n",
      " 0.16681072 0.16729514 0.16726413 0.16698904 0.16661926 0.16622458\n",
      " 0.16583222 0.16545038 0.16508101 0.16472517 0.16438419 0.16405962\n",
      " 0.16375269 0.16346392 0.16319323 0.1629397 ]\n",
      "18 day output [[0.1627019]]\n",
      "19 day input [0.08683782 0.085335   0.09247339 0.09517846 0.09946149 0.10499687\n",
      " 0.10624922 0.10680025 0.10482154 0.10469631 0.1063995  0.10522229\n",
      " 0.11453976 0.10760175 0.10549781 0.10815279 0.11183469 0.1105072\n",
      " 0.1113087  0.10920476 0.1101315  0.10289292 0.10276769 0.10807765\n",
      " 0.10810269 0.11060739 0.11684408 0.12781465 0.13452724 0.13570445\n",
      " 0.13668128 0.13800877 0.12515967 0.13375078 0.14642455 0.14509706\n",
      " 0.14256731 0.1377583  0.14647464 0.16115216 0.17092048 0.16961803\n",
      " 0.181866   0.17257358 0.16904195 0.18149029 0.16385723 0.16105197\n",
      " 0.15757044 0.16568566 0.17232311 0.17392611 0.18407013 0.18146525\n",
      " 0.18169067 0.17873513 0.17715717 0.18827802 0.18249217 0.17051972\n",
      " 0.16320601 0.16363181 0.1636819  0.17092048 0.17204759 0.1636819\n",
      " 0.16588604 0.15769568 0.14875391 0.14444584 0.13918597 0.13720726\n",
      " 0.13259862 0.1323732  0.13119599 0.15902317 0.17016907 0.16974327\n",
      " 0.17282405 0.16546024 0.16418284 0.16254056 0.16539457 0.16681072\n",
      " 0.16729514 0.16726413 0.16698904 0.16661926 0.16622458 0.16583222\n",
      " 0.16545038 0.16508101 0.16472517 0.16438419 0.16405962 0.16375269\n",
      " 0.16346392 0.16319323 0.1629397  0.1627019 ]\n",
      "19 day output [[0.16247834]]\n",
      "20 day input [0.085335   0.09247339 0.09517846 0.09946149 0.10499687 0.10624922\n",
      " 0.10680025 0.10482154 0.10469631 0.1063995  0.10522229 0.11453976\n",
      " 0.10760175 0.10549781 0.10815279 0.11183469 0.1105072  0.1113087\n",
      " 0.10920476 0.1101315  0.10289292 0.10276769 0.10807765 0.10810269\n",
      " 0.11060739 0.11684408 0.12781465 0.13452724 0.13570445 0.13668128\n",
      " 0.13800877 0.12515967 0.13375078 0.14642455 0.14509706 0.14256731\n",
      " 0.1377583  0.14647464 0.16115216 0.17092048 0.16961803 0.181866\n",
      " 0.17257358 0.16904195 0.18149029 0.16385723 0.16105197 0.15757044\n",
      " 0.16568566 0.17232311 0.17392611 0.18407013 0.18146525 0.18169067\n",
      " 0.17873513 0.17715717 0.18827802 0.18249217 0.17051972 0.16320601\n",
      " 0.16363181 0.1636819  0.17092048 0.17204759 0.1636819  0.16588604\n",
      " 0.15769568 0.14875391 0.14444584 0.13918597 0.13720726 0.13259862\n",
      " 0.1323732  0.13119599 0.15902317 0.17016907 0.16974327 0.17282405\n",
      " 0.16546024 0.16418284 0.16254056 0.16539457 0.16681072 0.16729514\n",
      " 0.16726413 0.16698904 0.16661926 0.16622458 0.16583222 0.16545038\n",
      " 0.16508101 0.16472517 0.16438419 0.16405962 0.16375269 0.16346392\n",
      " 0.16319323 0.1629397  0.1627019  0.16247834]\n",
      "20 day output [[0.16226713]]\n",
      "21 day input [0.09247339 0.09517846 0.09946149 0.10499687 0.10624922 0.10680025\n",
      " 0.10482154 0.10469631 0.1063995  0.10522229 0.11453976 0.10760175\n",
      " 0.10549781 0.10815279 0.11183469 0.1105072  0.1113087  0.10920476\n",
      " 0.1101315  0.10289292 0.10276769 0.10807765 0.10810269 0.11060739\n",
      " 0.11684408 0.12781465 0.13452724 0.13570445 0.13668128 0.13800877\n",
      " 0.12515967 0.13375078 0.14642455 0.14509706 0.14256731 0.1377583\n",
      " 0.14647464 0.16115216 0.17092048 0.16961803 0.181866   0.17257358\n",
      " 0.16904195 0.18149029 0.16385723 0.16105197 0.15757044 0.16568566\n",
      " 0.17232311 0.17392611 0.18407013 0.18146525 0.18169067 0.17873513\n",
      " 0.17715717 0.18827802 0.18249217 0.17051972 0.16320601 0.16363181\n",
      " 0.1636819  0.17092048 0.17204759 0.1636819  0.16588604 0.15769568\n",
      " 0.14875391 0.14444584 0.13918597 0.13720726 0.13259862 0.1323732\n",
      " 0.13119599 0.15902317 0.17016907 0.16974327 0.17282405 0.16546024\n",
      " 0.16418284 0.16254056 0.16539457 0.16681072 0.16729514 0.16726413\n",
      " 0.16698904 0.16661926 0.16622458 0.16583222 0.16545038 0.16508101\n",
      " 0.16472517 0.16438419 0.16405962 0.16375269 0.16346392 0.16319323\n",
      " 0.1629397  0.1627019  0.16247834 0.16226713]\n",
      "21 day output [[0.16206662]]\n",
      "22 day input [0.09517846 0.09946149 0.10499687 0.10624922 0.10680025 0.10482154\n",
      " 0.10469631 0.1063995  0.10522229 0.11453976 0.10760175 0.10549781\n",
      " 0.10815279 0.11183469 0.1105072  0.1113087  0.10920476 0.1101315\n",
      " 0.10289292 0.10276769 0.10807765 0.10810269 0.11060739 0.11684408\n",
      " 0.12781465 0.13452724 0.13570445 0.13668128 0.13800877 0.12515967\n",
      " 0.13375078 0.14642455 0.14509706 0.14256731 0.1377583  0.14647464\n",
      " 0.16115216 0.17092048 0.16961803 0.181866   0.17257358 0.16904195\n",
      " 0.18149029 0.16385723 0.16105197 0.15757044 0.16568566 0.17232311\n",
      " 0.17392611 0.18407013 0.18146525 0.18169067 0.17873513 0.17715717\n",
      " 0.18827802 0.18249217 0.17051972 0.16320601 0.16363181 0.1636819\n",
      " 0.17092048 0.17204759 0.1636819  0.16588604 0.15769568 0.14875391\n",
      " 0.14444584 0.13918597 0.13720726 0.13259862 0.1323732  0.13119599\n",
      " 0.15902317 0.17016907 0.16974327 0.17282405 0.16546024 0.16418284\n",
      " 0.16254056 0.16539457 0.16681072 0.16729514 0.16726413 0.16698904\n",
      " 0.16661926 0.16622458 0.16583222 0.16545038 0.16508101 0.16472517\n",
      " 0.16438419 0.16405962 0.16375269 0.16346392 0.16319323 0.1629397\n",
      " 0.1627019  0.16247834 0.16226713 0.16206662]\n",
      "22 day output [[0.16187517]]\n",
      "23 day input [0.09946149 0.10499687 0.10624922 0.10680025 0.10482154 0.10469631\n",
      " 0.1063995  0.10522229 0.11453976 0.10760175 0.10549781 0.10815279\n",
      " 0.11183469 0.1105072  0.1113087  0.10920476 0.1101315  0.10289292\n",
      " 0.10276769 0.10807765 0.10810269 0.11060739 0.11684408 0.12781465\n",
      " 0.13452724 0.13570445 0.13668128 0.13800877 0.12515967 0.13375078\n",
      " 0.14642455 0.14509706 0.14256731 0.1377583  0.14647464 0.16115216\n",
      " 0.17092048 0.16961803 0.181866   0.17257358 0.16904195 0.18149029\n",
      " 0.16385723 0.16105197 0.15757044 0.16568566 0.17232311 0.17392611\n",
      " 0.18407013 0.18146525 0.18169067 0.17873513 0.17715717 0.18827802\n",
      " 0.18249217 0.17051972 0.16320601 0.16363181 0.1636819  0.17092048\n",
      " 0.17204759 0.1636819  0.16588604 0.15769568 0.14875391 0.14444584\n",
      " 0.13918597 0.13720726 0.13259862 0.1323732  0.13119599 0.15902317\n",
      " 0.17016907 0.16974327 0.17282405 0.16546024 0.16418284 0.16254056\n",
      " 0.16539457 0.16681072 0.16729514 0.16726413 0.16698904 0.16661926\n",
      " 0.16622458 0.16583222 0.16545038 0.16508101 0.16472517 0.16438419\n",
      " 0.16405962 0.16375269 0.16346392 0.16319323 0.1629397  0.1627019\n",
      " 0.16247834 0.16226713 0.16206662 0.16187517]\n",
      "23 day output [[0.16169144]]\n",
      "24 day input [0.10499687 0.10624922 0.10680025 0.10482154 0.10469631 0.1063995\n",
      " 0.10522229 0.11453976 0.10760175 0.10549781 0.10815279 0.11183469\n",
      " 0.1105072  0.1113087  0.10920476 0.1101315  0.10289292 0.10276769\n",
      " 0.10807765 0.10810269 0.11060739 0.11684408 0.12781465 0.13452724\n",
      " 0.13570445 0.13668128 0.13800877 0.12515967 0.13375078 0.14642455\n",
      " 0.14509706 0.14256731 0.1377583  0.14647464 0.16115216 0.17092048\n",
      " 0.16961803 0.181866   0.17257358 0.16904195 0.18149029 0.16385723\n",
      " 0.16105197 0.15757044 0.16568566 0.17232311 0.17392611 0.18407013\n",
      " 0.18146525 0.18169067 0.17873513 0.17715717 0.18827802 0.18249217\n",
      " 0.17051972 0.16320601 0.16363181 0.1636819  0.17092048 0.17204759\n",
      " 0.1636819  0.16588604 0.15769568 0.14875391 0.14444584 0.13918597\n",
      " 0.13720726 0.13259862 0.1323732  0.13119599 0.15902317 0.17016907\n",
      " 0.16974327 0.17282405 0.16546024 0.16418284 0.16254056 0.16539457\n",
      " 0.16681072 0.16729514 0.16726413 0.16698904 0.16661926 0.16622458\n",
      " 0.16583222 0.16545038 0.16508101 0.16472517 0.16438419 0.16405962\n",
      " 0.16375269 0.16346392 0.16319323 0.1629397  0.1627019  0.16247834\n",
      " 0.16226713 0.16206662 0.16187517 0.16169144]\n"
     ]
    },
    {
     "name": "stdout",
     "output_type": "stream",
     "text": [
      "24 day output [[0.16151401]]\n",
      "25 day input [0.10624922 0.10680025 0.10482154 0.10469631 0.1063995  0.10522229\n",
      " 0.11453976 0.10760175 0.10549781 0.10815279 0.11183469 0.1105072\n",
      " 0.1113087  0.10920476 0.1101315  0.10289292 0.10276769 0.10807765\n",
      " 0.10810269 0.11060739 0.11684408 0.12781465 0.13452724 0.13570445\n",
      " 0.13668128 0.13800877 0.12515967 0.13375078 0.14642455 0.14509706\n",
      " 0.14256731 0.1377583  0.14647464 0.16115216 0.17092048 0.16961803\n",
      " 0.181866   0.17257358 0.16904195 0.18149029 0.16385723 0.16105197\n",
      " 0.15757044 0.16568566 0.17232311 0.17392611 0.18407013 0.18146525\n",
      " 0.18169067 0.17873513 0.17715717 0.18827802 0.18249217 0.17051972\n",
      " 0.16320601 0.16363181 0.1636819  0.17092048 0.17204759 0.1636819\n",
      " 0.16588604 0.15769568 0.14875391 0.14444584 0.13918597 0.13720726\n",
      " 0.13259862 0.1323732  0.13119599 0.15902317 0.17016907 0.16974327\n",
      " 0.17282405 0.16546024 0.16418284 0.16254056 0.16539457 0.16681072\n",
      " 0.16729514 0.16726413 0.16698904 0.16661926 0.16622458 0.16583222\n",
      " 0.16545038 0.16508101 0.16472517 0.16438419 0.16405962 0.16375269\n",
      " 0.16346392 0.16319323 0.1629397  0.1627019  0.16247834 0.16226713\n",
      " 0.16206662 0.16187517 0.16169144 0.16151401]\n",
      "25 day output [[0.16134192]]\n",
      "26 day input [0.10680025 0.10482154 0.10469631 0.1063995  0.10522229 0.11453976\n",
      " 0.10760175 0.10549781 0.10815279 0.11183469 0.1105072  0.1113087\n",
      " 0.10920476 0.1101315  0.10289292 0.10276769 0.10807765 0.10810269\n",
      " 0.11060739 0.11684408 0.12781465 0.13452724 0.13570445 0.13668128\n",
      " 0.13800877 0.12515967 0.13375078 0.14642455 0.14509706 0.14256731\n",
      " 0.1377583  0.14647464 0.16115216 0.17092048 0.16961803 0.181866\n",
      " 0.17257358 0.16904195 0.18149029 0.16385723 0.16105197 0.15757044\n",
      " 0.16568566 0.17232311 0.17392611 0.18407013 0.18146525 0.18169067\n",
      " 0.17873513 0.17715717 0.18827802 0.18249217 0.17051972 0.16320601\n",
      " 0.16363181 0.1636819  0.17092048 0.17204759 0.1636819  0.16588604\n",
      " 0.15769568 0.14875391 0.14444584 0.13918597 0.13720726 0.13259862\n",
      " 0.1323732  0.13119599 0.15902317 0.17016907 0.16974327 0.17282405\n",
      " 0.16546024 0.16418284 0.16254056 0.16539457 0.16681072 0.16729514\n",
      " 0.16726413 0.16698904 0.16661926 0.16622458 0.16583222 0.16545038\n",
      " 0.16508101 0.16472517 0.16438419 0.16405962 0.16375269 0.16346392\n",
      " 0.16319323 0.1629397  0.1627019  0.16247834 0.16226713 0.16206662\n",
      " 0.16187517 0.16169144 0.16151401 0.16134192]\n",
      "26 day output [[0.16117431]]\n",
      "27 day input [0.10482154 0.10469631 0.1063995  0.10522229 0.11453976 0.10760175\n",
      " 0.10549781 0.10815279 0.11183469 0.1105072  0.1113087  0.10920476\n",
      " 0.1101315  0.10289292 0.10276769 0.10807765 0.10810269 0.11060739\n",
      " 0.11684408 0.12781465 0.13452724 0.13570445 0.13668128 0.13800877\n",
      " 0.12515967 0.13375078 0.14642455 0.14509706 0.14256731 0.1377583\n",
      " 0.14647464 0.16115216 0.17092048 0.16961803 0.181866   0.17257358\n",
      " 0.16904195 0.18149029 0.16385723 0.16105197 0.15757044 0.16568566\n",
      " 0.17232311 0.17392611 0.18407013 0.18146525 0.18169067 0.17873513\n",
      " 0.17715717 0.18827802 0.18249217 0.17051972 0.16320601 0.16363181\n",
      " 0.1636819  0.17092048 0.17204759 0.1636819  0.16588604 0.15769568\n",
      " 0.14875391 0.14444584 0.13918597 0.13720726 0.13259862 0.1323732\n",
      " 0.13119599 0.15902317 0.17016907 0.16974327 0.17282405 0.16546024\n",
      " 0.16418284 0.16254056 0.16539457 0.16681072 0.16729514 0.16726413\n",
      " 0.16698904 0.16661926 0.16622458 0.16583222 0.16545038 0.16508101\n",
      " 0.16472517 0.16438419 0.16405962 0.16375269 0.16346392 0.16319323\n",
      " 0.1629397  0.1627019  0.16247834 0.16226713 0.16206662 0.16187517\n",
      " 0.16169144 0.16151401 0.16134192 0.16117431]\n",
      "27 day output [[0.16101037]]\n",
      "28 day input [0.10469631 0.1063995  0.10522229 0.11453976 0.10760175 0.10549781\n",
      " 0.10815279 0.11183469 0.1105072  0.1113087  0.10920476 0.1101315\n",
      " 0.10289292 0.10276769 0.10807765 0.10810269 0.11060739 0.11684408\n",
      " 0.12781465 0.13452724 0.13570445 0.13668128 0.13800877 0.12515967\n",
      " 0.13375078 0.14642455 0.14509706 0.14256731 0.1377583  0.14647464\n",
      " 0.16115216 0.17092048 0.16961803 0.181866   0.17257358 0.16904195\n",
      " 0.18149029 0.16385723 0.16105197 0.15757044 0.16568566 0.17232311\n",
      " 0.17392611 0.18407013 0.18146525 0.18169067 0.17873513 0.17715717\n",
      " 0.18827802 0.18249217 0.17051972 0.16320601 0.16363181 0.1636819\n",
      " 0.17092048 0.17204759 0.1636819  0.16588604 0.15769568 0.14875391\n",
      " 0.14444584 0.13918597 0.13720726 0.13259862 0.1323732  0.13119599\n",
      " 0.15902317 0.17016907 0.16974327 0.17282405 0.16546024 0.16418284\n",
      " 0.16254056 0.16539457 0.16681072 0.16729514 0.16726413 0.16698904\n",
      " 0.16661926 0.16622458 0.16583222 0.16545038 0.16508101 0.16472517\n",
      " 0.16438419 0.16405962 0.16375269 0.16346392 0.16319323 0.1629397\n",
      " 0.1627019  0.16247834 0.16226713 0.16206662 0.16187517 0.16169144\n",
      " 0.16151401 0.16134192 0.16117431 0.16101037]\n",
      "28 day output [[0.16084969]]\n",
      "29 day input [0.1063995  0.10522229 0.11453976 0.10760175 0.10549781 0.10815279\n",
      " 0.11183469 0.1105072  0.1113087  0.10920476 0.1101315  0.10289292\n",
      " 0.10276769 0.10807765 0.10810269 0.11060739 0.11684408 0.12781465\n",
      " 0.13452724 0.13570445 0.13668128 0.13800877 0.12515967 0.13375078\n",
      " 0.14642455 0.14509706 0.14256731 0.1377583  0.14647464 0.16115216\n",
      " 0.17092048 0.16961803 0.181866   0.17257358 0.16904195 0.18149029\n",
      " 0.16385723 0.16105197 0.15757044 0.16568566 0.17232311 0.17392611\n",
      " 0.18407013 0.18146525 0.18169067 0.17873513 0.17715717 0.18827802\n",
      " 0.18249217 0.17051972 0.16320601 0.16363181 0.1636819  0.17092048\n",
      " 0.17204759 0.1636819  0.16588604 0.15769568 0.14875391 0.14444584\n",
      " 0.13918597 0.13720726 0.13259862 0.1323732  0.13119599 0.15902317\n",
      " 0.17016907 0.16974327 0.17282405 0.16546024 0.16418284 0.16254056\n",
      " 0.16539457 0.16681072 0.16729514 0.16726413 0.16698904 0.16661926\n",
      " 0.16622458 0.16583222 0.16545038 0.16508101 0.16472517 0.16438419\n",
      " 0.16405962 0.16375269 0.16346392 0.16319323 0.1629397  0.1627019\n",
      " 0.16247834 0.16226713 0.16206662 0.16187517 0.16169144 0.16151401\n",
      " 0.16134192 0.16117431 0.16101037 0.16084969]\n",
      "29 day output [[0.16069171]]\n",
      "[[0.16254055500030518], [0.16539457440376282], [0.16681072115898132], [0.16729514300823212], [0.16726413369178772], [0.1669890433549881], [0.16661925613880157], [0.16622458398342133], [0.16583222150802612], [0.16545037925243378], [0.16508100926876068], [0.1647251695394516], [0.16438418626785278], [0.1640596240758896], [0.1637526899576187], [0.16346392035484314], [0.1631932258605957], [0.16293969750404358], [0.16270190477371216], [0.16247834265232086], [0.16226713359355927], [0.16206662356853485], [0.1618751734495163], [0.16169144213199615], [0.161514014005661], [0.16134192049503326], [0.16117431223392487], [0.16101036965847015], [0.1608496904373169], [0.16069170832633972]]\n"
     ]
    }
   ],
   "source": [
    "# demonstrate prediction for next 30 days\n",
    "from numpy import array\n",
    "\n",
    "lst_output=[]\n",
    "n_steps=100\n",
    "i=0\n",
    "while(i<30):\n",
    "    \n",
    "    if(len(temp_input)>100):\n",
    "        #print(temp_input)\n",
    "        x_input=np.array(temp_input[1:])\n",
    "        print(\"{} day input {}\".format(i,x_input))\n",
    "        x_input=x_input.reshape(1,-1)\n",
    "        x_input = x_input.reshape((1, n_steps, 1))\n",
    "        #print(x_input)\n",
    "        yhat = model.predict(x_input, verbose=0)\n",
    "        print(\"{} day output {}\".format(i,yhat))\n",
    "        temp_input.extend(yhat[0].tolist())\n",
    "        temp_input=temp_input[1:]\n",
    "        #print(temp_input)\n",
    "        lst_output.extend(yhat.tolist())\n",
    "        i=i+1\n",
    "    else:\n",
    "        x_input = x_input.reshape((1, n_steps,1))\n",
    "        yhat = model.predict(x_input, verbose=0)\n",
    "        print(yhat[0])\n",
    "        temp_input.extend(yhat[0].tolist())\n",
    "        print(len(temp_input))\n",
    "        lst_output.extend(yhat.tolist())\n",
    "        i=i+1\n",
    "    \n",
    "print(lst_output)"
   ]
  },
  {
   "cell_type": "code",
   "execution_count": 60,
   "id": "6b63e28a",
   "metadata": {},
   "outputs": [],
   "source": [
    "# now plotting for next 30 days\n",
    "day_new=np.arange(1,101)\n",
    "day_pred=np.arange(101,131)"
   ]
  },
  {
   "cell_type": "code",
   "execution_count": 61,
   "id": "b09277ec",
   "metadata": {},
   "outputs": [
    {
     "data": {
      "text/plain": [
       "1258"
      ]
     },
     "execution_count": 61,
     "metadata": {},
     "output_type": "execute_result"
    }
   ],
   "source": [
    "len(df1)"
   ]
  },
  {
   "cell_type": "code",
   "execution_count": 62,
   "id": "0cfd5277",
   "metadata": {},
   "outputs": [
    {
     "data": {
      "text/plain": [
       "[<matplotlib.lines.Line2D at 0x1eaa5a54e50>]"
      ]
     },
     "execution_count": 62,
     "metadata": {},
     "output_type": "execute_result"
    },
    {
     "data": {
      "image/png": "[encoded data removed]",
      "text/plain": [
       "<Figure size 432x288 with 1 Axes>"
      ]
     },
     "metadata": {
      "needs_background": "light"
     },
     "output_type": "display_data"
    }
   ],
   "source": [
    "plt.plot(day_new,scaler.inverse_transform(df1[1158:])) # as length of df1 is 1258 so we are taking previous 100 days so it becoms 1158\n",
    "plt.plot(day_pred,scaler.inverse_transform(lst_output))"
   ]
  },
  {
   "cell_type": "code",
   "execution_count": 63,
   "id": "2315963d",
   "metadata": {},
   "outputs": [
    {
     "data": {
      "text/plain": [
       "[<matplotlib.lines.Line2D at 0x1eaa5a4d1c0>]"
      ]
     },
     "execution_count": 63,
     "metadata": {},
     "output_type": "execute_result"
    },
    {
     "data": {
      "image/png": "[encoded data removed]",
      "text/plain": [
       "<Figure size 432x288 with 1 Axes>"
      ]
     },
     "metadata": {
      "needs_background": "light"
     },
     "output_type": "display_data"
    }
   ],
   "source": [
    "# you can also see\n",
    "df3=df1.tolist()\n",
    "df3.extend(lst_output)\n",
    "plt.plot(df3[1200:])"
   ]
  },
  {
   "cell_type": "code",
   "execution_count": null,
   "id": "b780f8af",
   "metadata": {},
   "outputs": [],
   "source": [
    "# you can also improve this by taking timestep 150\n",
    "# Or you can take Bidirectional LSTM"
   ]
  }
 ],
 "metadata": {
  "kernelspec": {
   "display_name": "Python 3",
   "language": "python",
   "name": "python3"
  },
  "language_info": {
   "codemirror_mode": {
    "name": "ipython",
    "version": 3
   },
   "file_extension": ".py",
   "mimetype": "text/x-python",
   "name": "python",
   "nbconvert_exporter": "python",
   "pygments_lexer": "ipython3",
   "version": "3.8.8"
  }
 },
 "nbformat": 4,
 "nbformat_minor": 5
}
